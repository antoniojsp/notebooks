{
  "metadata": {
    "language_info": {
      "codemirror_mode": {
        "name": "python",
        "version": 3
      },
      "file_extension": ".py",
      "mimetype": "text/x-python",
      "name": "python",
      "nbconvert_exporter": "python",
      "pygments_lexer": "ipython3",
      "version": "3.8"
    },
    "kernelspec": {
      "name": "python",
      "display_name": "Python (Pyodide)",
      "language": "python"
    }
  },
  "nbformat_minor": 4,
  "nbformat": 4,
  "cells": [
    {
      "cell_type": "code",
      "source": "How to view hidden folders using Terminal\nAnother way to make hidden files and folders visible requires you to use Terminal.\n\nOpen Terminal\nRun the following script:\n$ defaults write com.apple.Finder AppleShowAllFiles true\n$ killall Finder\nIf you want to switch it back, simply change the true to false.",
      "metadata": {},
      "execution_count": null,
      "outputs": []
    }
  ]
}